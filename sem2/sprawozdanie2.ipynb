{
 "cells": [
  {
   "cell_type": "markdown",
   "metadata": {
    "vscode": {
     "languageId": "markdown"
    }
   },
   "source": [
    "![tabela](/sem2/tabela2.png \"tabela\")"
   ]
  },
  {
   "cell_type": "markdown",
   "metadata": {},
   "source": [
    "Niniejsze sprawozdanie dotyczy zagadnień programistycznych, obejmujących różnorodne zadania, które rozwijają umiejętności operowania na danych oraz pracy z funkcjami w języku programowania, takim jak Python. Głównym celem tych zadań jest kształtowanie myślenia algorytmicznego oraz umiejętności tworzenia funkcjonalnych programów rozwiązujących konkretne problemy.\n",
    "\n",
    "Pierwsze zadanie polega na stworzeniu funkcji, która oblicza całkowitą liczbę nóg różnych zwierząt na farmie. Farmer hoduje kurczaki, krowy oraz świnie, a każdemu z tych zwierząt przypisana jest określona liczba nóg: kurczaki mają po 2 nogi, natomiast krowy i świnie po 4. Na podstawie liczby każdego gatunku podanej przez rolnika, program ma zsumować wszystkie nogi i wyświetlić wynik na ekranie. Jest to klasyczne zadanie z wykorzystaniem funkcji arytmetycznych, które pozwala zrozumieć, jak można efektywnie operować na liczbach, przypisując im odpowiednie wartości w kontekście rzeczywistego problemu.\n",
    "\n",
    "Kolejne zadania obejmują m.in. algorytmy sprawdzające, czy dany rok jest przestępny, wypisywanie liczb z podanego przedziału, oraz pisanie prostych gier, takich jak „kamień, papier, nożyczki”. Dzięki nim można przećwiczyć takie aspekty programowania jak warunki logiczne, pętle, operacje na listach oraz interakcję z użytkownikiem."
   ]
  },
  {
   "cell_type": "markdown",
   "metadata": {},
   "source": [
    "## Zadanie 1"
   ]
  },
  {
   "cell_type": "code",
   "execution_count": null,
   "metadata": {},
   "outputs": [],
   "source": [
    "#include <iostream>\n",
    "\n",
    "int animals(int kurczaki, int krowy, int swinie){\n",
    "    return (kurczaki * 2 + krowy * 4 + swinie * 4);\n",
    "}\n",
    "\n",
    "\n",
    "int main(void){\n",
    "    int k, kr, s;\n",
    "    std::cout << \"podaj ilosc kurczakow, krow, swin oddzielając je spacją: \";\n",
    "    std::cin >> k >> kr >> s;\n",
    "\n",
    "    std::cout << \"mozna zliczyc \" << animals(k, kr, s) << \" nog\" << std::endl;\n",
    "\n",
    "    return 0;\n",
    "}"
   ]
  },
  {
   "cell_type": "markdown",
   "metadata": {},
   "source": [
    "![zad 1](/sem2/01/01.png \"01\")"
   ]
  },
  {
   "cell_type": "markdown",
   "metadata": {},
   "source": [
    "## Zadanie 2"
   ]
  },
  {
   "cell_type": "code",
   "execution_count": null,
   "metadata": {},
   "outputs": [],
   "source": [
    "// 01.cpp\n",
    "\n",
    "#include <iostream>\n",
    "\n",
    "using namespace std;\n",
    "\n",
    "void zad01(){\n",
    "    int rok;\n",
    "    cout << \"podaj rok: \";\n",
    "    cin >> rok;\n",
    "    if ((rok % 4 == 0) && ((rok % 100 != 0) || (rok % 400 == 0))){\n",
    "        cout << \"jest przestepny\" << endl;\n",
    "    }\n",
    "    else{\n",
    "        cout << \"nie jest przestepny\" << endl;\n",
    "    }\n",
    "}"
   ]
  },
  {
   "cell_type": "code",
   "execution_count": null,
   "metadata": {},
   "outputs": [],
   "source": [
    "// 02.cpp\n",
    "\n",
    "#include <iostream>\n",
    "\n",
    "\n",
    "using namespace std;\n",
    "\n",
    "void zad02(){\n",
    "    int l1, l2;\n",
    "    int sum = 0;\n",
    "    cout << \"podaj dwie liczby: \";\n",
    "    cin >> l1 >> l2;\n",
    "\n",
    "    if (l1 == l2){\n",
    "        exit(0);\n",
    "    }\n",
    "    else if (l1 > l2){\n",
    "        int tmp = l1;\n",
    "        l1 = l2;\n",
    "        l2 = tmp;\n",
    "    }\n",
    "    l1++;\n",
    "    for (; l1 < l2; l1++){\n",
    "        if (l1 % 2 == 0){\n",
    "            sum += l1;\n",
    "        }\n",
    "        cout << l1 << endl;\n",
    "    }\n",
    "\n",
    "    cout << \"suma wynosi \" << sum << endl;\n",
    "}"
   ]
  },
  {
   "cell_type": "code",
   "execution_count": null,
   "metadata": {},
   "outputs": [],
   "source": [
    "// 03.cpp\n",
    "\n",
    "#include <iostream>\n",
    "\n",
    "using namespace std;\n",
    "\n",
    "void zad03(){\n",
    "    int dt;\n",
    "\n",
    "    cout << \"podaj numer dnia tygodnia <1, 7> : \";\n",
    "    cin >> dt;\n",
    "\n",
    "    if ((dt < 1) || (dt > 7)){\n",
    "        cout << \"nieprawidlowy numer\" << endl;\n",
    "        exit(1);\n",
    "    }\n",
    "\n",
    "    string dni_t[7] = {\"poniedzialek\", \"wtorek\", \"sroda\", \"czwartek\", \"piatek\", \"sobota\", \"niedziela\"};\n",
    "\n",
    "    cout << \"podany numer to \" << dni_t[dt - 1] << endl;\n",
    "\n",
    "}"
   ]
  },
  {
   "cell_type": "code",
   "execution_count": null,
   "metadata": {},
   "outputs": [],
   "source": [
    "// 04.cpp\n",
    "\n",
    "#include <iostream>\n",
    "\n",
    "using namespace std;\n",
    "\n",
    "\n",
    "void zad04() {\n",
    "    int liczby[5];\n",
    "\n",
    "    for (int i = 0; i < 5; i++){\n",
    "        cout << \"podaj \" << i + 1 << \" liczbe: \";\n",
    "        cin >> liczby[i]; \n",
    "    }\n",
    "    int min = liczby[0];\n",
    "    int max = liczby[0];\n",
    "    for (int i = 1; i < 5; i++){\n",
    "        if (liczby[i] > max){\n",
    "            max = liczby[i];\n",
    "        }\n",
    "        else if (liczby[i] < min){\n",
    "            min = liczby[i];\n",
    "        }\n",
    "    }\n",
    "\n",
    "    cout << \"min to \" << min << \" max to \" << max << \" a ich roznica to \" << (max - min) << endl;\n",
    "}"
   ]
  },
  {
   "cell_type": "code",
   "execution_count": null,
   "metadata": {},
   "outputs": [],
   "source": [
    "// 05.cpp\n",
    "\n",
    "#include <iostream>\n",
    "\n",
    "using namespace std;\n",
    "\n",
    "void zad05(){\n",
    "    int n;\n",
    "    cout << \"podaj ilosc liczb: \";\n",
    "    cin >> n;\n",
    "\n",
    "    int tab[n];\n",
    "\n",
    "    for (int i = 0; i < n; i++){\n",
    "        cout << \"podaj \" << i +1 << \" liczbe: \";\n",
    "        cin >> tab[i]; \n",
    "    }\n",
    "\n",
    "    int sum = 0;\n",
    "\n",
    "    for (int i = 0; i < n; i++){\n",
    "        sum += tab[i];\n",
    "    }\n",
    "    int s = sum / n;\n",
    "    cout << \"srednia wynosi \" << s << endl;\n",
    "\n",
    "    for (int i = 0; i < s; i++){\n",
    "        cout << \"0\";\n",
    "    }\n",
    "    cout << endl;\n",
    "\n",
    "}"
   ]
  },
  {
   "cell_type": "code",
   "execution_count": null,
   "metadata": {},
   "outputs": [],
   "source": [
    "// funkcje.h\n",
    "\n",
    "#pragma once\n",
    "\n",
    "void zad01();\n",
    "\n",
    "void zad02();\n",
    "\n",
    "void zad03();\n",
    "\n",
    "void zad04();\n",
    "\n",
    "void zad05();\n"
   ]
  },
  {
   "cell_type": "code",
   "execution_count": null,
   "metadata": {},
   "outputs": [],
   "source": [
    "#include \"funkcje.h\"\n",
    "#include <iostream>\n",
    "\n",
    "using namespace std;\n",
    "\n",
    "int main(void){\n",
    "    int program;\n",
    "    cout << \"podaj program od <1, 5> : \";\n",
    "    cin >> program;\n",
    "    switch (program)\n",
    "    {\n",
    "    case 1:\n",
    "        zad01();\n",
    "        break;\n",
    "    case 2:\n",
    "        zad02();\n",
    "        break;\n",
    "    case 3:\n",
    "        zad03();\n",
    "        break;\n",
    "    case 4:\n",
    "        zad04();\n",
    "        break;\n",
    "    case 5:\n",
    "        zad05();\n",
    "        break;\n",
    "    default:\n",
    "        cout << \"nieprawidlowy numer\" << endl;\n",
    "        return 1;\n",
    "    }\n",
    "    return 0;\n",
    "}"
   ]
  },
  {
   "cell_type": "markdown",
   "metadata": {},
   "source": [
    "![zad 2](/sem2/02/02.png \"02\")"
   ]
  },
  {
   "cell_type": "markdown",
   "metadata": {},
   "source": [
    "## Zadanie 3"
   ]
  },
  {
   "cell_type": "code",
   "execution_count": null,
   "metadata": {},
   "outputs": [],
   "source": [
    "#include <iostream>\n",
    "#include <stdlib.h>\n",
    "\n",
    "using namespace std;\n",
    "\n",
    "typedef struct {\n",
    "    int x;\n",
    "    int y;\n",
    "} position;\n",
    "\n",
    "void get_final_position(position &pos, int n,int (&ruchy)[]){\n",
    "    for (int i = 0; i < n; i++){\n",
    "        switch (i % 4)\n",
    "        {\n",
    "        case 0:\n",
    "            pos.y += ruchy[i];\n",
    "            cout << ruchy[i] << \" kroków na polnoc, teraz o (\" << pos.x << \" , \" << pos.y << \")\" << endl;\n",
    "            break;\n",
    "        case 1:\n",
    "            pos.x += ruchy[i];\n",
    "            cout << ruchy[i] << \" kroków na wschod, teraz o (\" << pos.x << \" , \" << pos.y << \")\" << endl;\n",
    "            break;\n",
    "        case 2:\n",
    "            pos.y -= ruchy[i];\n",
    "            cout << ruchy[i] << \" kroków na poludnie, teraz o (\" << pos.x << \" , \" << pos.y << \")\" << endl;\n",
    "            break;\n",
    "        case 3:\n",
    "            pos.x -= ruchy[i];\n",
    "            cout << ruchy[i] << \" kroków na zachod, teraz o (\" << pos.x << \" , \" << pos.y << \")\" << endl;\n",
    "            break;\n",
    "        }\n",
    "    }\n",
    "\n",
    "}\n",
    "\n",
    "int main(int argc, char* argv[]){\n",
    "    int ruchy[argc - 1];\n",
    "\n",
    "    int ruchy_iterator = 0;\n",
    "    for (int i = 1; i < argc; i++){\n",
    "        ruchy[ruchy_iterator] = strtol(argv[i], NULL, 10);\n",
    "        ruchy_iterator++;\n",
    "    }\n",
    "\n",
    "    position pos = {0, 0};\n",
    "\n",
    "    get_final_position(pos, argc - 1, ruchy);\n",
    "\n",
    "    cout << \"i skonczy na wspolrzednych (\" << pos.x << \" , \" << pos.y << \")\" << endl;\n",
    "\n",
    "    return 0;\n",
    "}"
   ]
  },
  {
   "cell_type": "markdown",
   "metadata": {},
   "source": [
    "![zadanie 3](/sem2/03/03.png \"03\")"
   ]
  },
  {
   "cell_type": "markdown",
   "metadata": {},
   "source": [
    "## Zadanie 4"
   ]
  },
  {
   "cell_type": "code",
   "execution_count": null,
   "metadata": {},
   "outputs": [],
   "source": [
    "#include <iostream>\n",
    "#include <cstdlib>\n",
    "#include <ctime>\n",
    "\n",
    "enum Choice { ROCK = 1, PAPER, SCISSORS };\n",
    "\n",
    "std::string choiceToString(int choice) {\n",
    "    switch (choice) {\n",
    "        case ROCK: return \"kamien\";\n",
    "        case PAPER: return \"papier\";\n",
    "        case SCISSORS: return \"nozyce\";\n",
    "        default: return \"nieprawidlowe\";\n",
    "    }\n",
    "}\n",
    "\n",
    "int knp(int userChoice, int computerChoice) {\n",
    "    if (userChoice == computerChoice) return 0; // Draw\n",
    "    if ((userChoice == ROCK && computerChoice == SCISSORS) ||\n",
    "        (userChoice == PAPER && computerChoice == ROCK) ||\n",
    "        (userChoice == SCISSORS && computerChoice == PAPER)) {\n",
    "        return 1; // wygrywasz\n",
    "    }\n",
    "    return -1; // przegrywasz\n",
    "}\n",
    "\n",
    "int main() {\n",
    "    std::srand(std::time(0));\n",
    "    int userScore = 0, computerScore = 0;\n",
    "\n",
    "    for (int round = 1; round <= 3; ++round) {\n",
    "        int userChoice;\n",
    "        std::cout << \"Runda \" << round << \": Wybierz (1 - kamien, 2 - papier, 3 - nozyczki): \";\n",
    "        std::cin >> userChoice;\n",
    "\n",
    "        if (userChoice < 1 || userChoice > 3) {\n",
    "            std::cout << \"wybierz 1/2/3 \\n\";\n",
    "            --round; // powtorz runde\n",
    "            continue;\n",
    "        }\n",
    "\n",
    "        int computerChoice = std::rand() % 3 + 1;\n",
    "        std::cout << \"komputer : \" << choiceToString(computerChoice) << \"\\n\";\n",
    "\n",
    "        int result = knp(userChoice, computerChoice);\n",
    "        if (result == 1) {\n",
    "            std::cout << \"Wygrywasz!\\n\";\n",
    "            ++userScore;\n",
    "        } else if (result == -1) {\n",
    "            std::cout << \"Przegrywasz!\\n\";\n",
    "            ++computerScore;\n",
    "        } else {\n",
    "            std::cout << \"Remis!\\n\";\n",
    "        }\n",
    "    }\n",
    "\n",
    "    std::cout << \"\\nWYNIKI: Ty \" << userScore << \" - \" << computerScore << \" Komputer\\n\";\n",
    "    if (userScore > computerScore) {\n",
    "        std::cout << \"gratki! wygrales!\\n\";\n",
    "    } else if (userScore < computerScore) {\n",
    "        std::cout << \"ilosc sekund od 1970 cie pokonala :/ \\n\";\n",
    "    } else {\n",
    "        std::cout << \"remisik\\n\";\n",
    "    }\n",
    "\n",
    "    return 0;\n",
    "}"
   ]
  },
  {
   "cell_type": "markdown",
   "metadata": {},
   "source": [
    "![zadanie 4](/sem2/04/04.png \"04\")"
   ]
  },
  {
   "cell_type": "markdown",
   "metadata": {},
   "source": [
    "# Podsumowanie i Wnioski"
   ]
  },
  {
   "cell_type": "markdown",
   "metadata": {},
   "source": [
    "Repozytorium github link: https://github.com/UmarlyPoeta/pi_sem_1_bin\n",
    "\n",
    "Zadania przedstawione w sprawozdaniu obejmują szeroki zakres problemów programistycznych, od prostych operacji arytmetycznych, po bardziej złożone algorytmy związane z analizą danych i tworzeniem funkcji. Każde zadanie miało na celu rozwinięcie konkretnych umiejętności, takich jak efektywne zarządzanie danymi wejściowymi, obliczenia matematyczne, a także praca z pętlami i warunkami logicznymi.\n",
    "\n",
    "Pierwsze zadanie, dotyczące liczenia nóg zwierząt, pozwala na ćwiczenie umiejętności pracy z funkcjami i arytmetyką w kontekście rzeczywistego problemu. Zadania związane z obliczaniem lat przestępnych oraz analizą przedziałów liczb uczą stosowania instrukcji warunkowych i pętli, co jest podstawą wielu algorytmów. Natomiast stworzenie gry „kamień, papier, nożyczki” wymagało użycia funkcji losujących, co dodatkowo rozwija umiejętności związane z interakcją komputera z użytkownikiem.\n",
    "\n",
    "Podsumowując, wszystkie zadania były wartościowe pod względem nauki kluczowych elementów programowania, takich jak logika, struktury danych oraz interakcja z użytkownikiem. Rozwiązywanie ich pozwoliło na wzmocnienie umiejętności praktycznych i teoretycznych, niezbędnych w pracy nad bardziej zaawansowanymi projektami programistycznymi."
   ]
  }
 ],
 "metadata": {
  "kernelspec": {
   "display_name": "Python 3 (ipykernel)",
   "language": "python",
   "name": "python3"
  },
  "language_info": {
   "codemirror_mode": {
    "name": "ipython",
    "version": 3
   },
   "file_extension": ".py",
   "mimetype": "text/x-python",
   "name": "python",
   "nbconvert_exporter": "python",
   "pygments_lexer": "ipython3",
   "version": "3.12.6"
  }
 },
 "nbformat": 4,
 "nbformat_minor": 4
}
