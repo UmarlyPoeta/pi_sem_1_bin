{
 "cells": [
  {
   "cell_type": "markdown",
   "metadata": {
    "vscode": {
     "languageId": "markdown"
    }
   },
   "source": [
    "![tabela](tabela.png \"tabela\")"
   ]
  },
  {
   "cell_type": "markdown",
   "metadata": {},
   "source": [
    "W niniejszym sprawozdaniu przedstawiono rozwiązania sześciu zadań programistycznych, które mają na celu praktyczne zastosowanie podstawowych struktur sterujących i operacji arytmetycznych w języku C. W każdym zadaniu programy spełniają określone wymagania i są zgodne z logiką problemów.\n",
    "\n",
    "Pierwsze zadanie polega na napisaniu programu, który na podstawie podanego roku określa, czy jest on przestępny. Algorytm opiera się na podziale roku przez 4, 100 oraz 400, zgodnie z ogólnymi zasadami dotyczącymi lat przestępnych. Drugie zadanie wymaga od programu pobrania dwóch liczb całkowitych i wypisania wszystkich liczb z przedziału między nimi. Dodatkowo, program sumuje liczby parzyste z tego przedziału i wyświetla wynik.\n",
    "\n",
    "Trzecie zadanie ma na celu konwersję liczby odpowiadającej dniu tygodnia na jego nazwę, co wymaga zastosowania instrukcji warunkowych do sprawdzenia wartości wejściowej. Czwarte zadanie natomiast wczytuje pięć liczb, a następnie wyświetla największą i najmniejszą z nich oraz ich różnicę.\n",
    "\n",
    "W piątym zadaniu użytkownik wprowadza N liczb, a program oblicza średnią arytmetyczną oraz wyświetla tę średnią wraz z określoną liczbą zer (odpowiadającą średniej). Szóste zadanie dotyczy stworzenia schematów blokowych, które wizualizują logikę działania poszczególnych programów, z wykorzystaniem narzędzi takich jak draw.io.\n",
    "\n",
    "Powyższe zadania mają na celu rozwinięcie umiejętności algorytmicznych oraz znajomości podstawowych struktur sterujących w programowaniu."
   ]
  },
  {
   "cell_type": "markdown",
   "metadata": {},
   "source": [
    "## Zadanie 1"
   ]
  },
  {
   "cell_type": "code",
   "execution_count": null,
   "metadata": {},
   "outputs": [],
   "source": [
    "#include <iostream>\n",
    "\n",
    "\n",
    "\n",
    "int main(void){\n",
    "    int rok;\n",
    "    std::cout << \"podaj rok: \";\n",
    "    std::cin >> rok;\n",
    "    if ((rok % 4 == 0) && ((rok % 100 != 0) || (rok % 400 == 0))){\n",
    "        std::cout << \"jest przestepny\" << std::endl;\n",
    "    }\n",
    "    else{\n",
    "        std::cout << \"nie jest przestepny\" << std::endl;\n",
    "    }\n",
    "    return 0;\n",
    "}"
   ]
  },
  {
   "cell_type": "markdown",
   "metadata": {},
   "source": [
    "![zad 1](01.drawio.png \"01\")"
   ]
  },
  {
   "cell_type": "markdown",
   "metadata": {},
   "source": [
    "## Zadanie 2"
   ]
  },
  {
   "cell_type": "code",
   "execution_count": null,
   "metadata": {},
   "outputs": [],
   "source": [
    "#include <iostream>\n",
    "\n",
    "using namespace std;\n",
    "\n",
    "int main(void){\n",
    "    int l1, l2;\n",
    "    int sum = 0;\n",
    "    cout << \"podaj dwie liczby: \";\n",
    "    cin >> l1 >> l2;\n",
    "\n",
    "    if (l1 == l2){\n",
    "        return 0;\n",
    "    }\n",
    "    else if (l1 > l2){\n",
    "        int tmp = l1;\n",
    "        l1 = l2;\n",
    "        l2 = tmp;\n",
    "    }\n",
    "    l1++;\n",
    "    for (; l1 < l2; l1++){\n",
    "        if (l1 % 2 == 0){\n",
    "            sum += l1;\n",
    "        }\n",
    "        cout << l1 << endl;\n",
    "    }\n",
    "\n",
    "    cout << \"suma wynosi \" << sum << endl;\n",
    "\n",
    "    return 0;\n",
    "}"
   ]
  },
  {
   "cell_type": "markdown",
   "metadata": {},
   "source": [
    "![zad 2](02.drawio.png \"02\")"
   ]
  },
  {
   "cell_type": "markdown",
   "metadata": {},
   "source": [
    "## Zadanie 3"
   ]
  },
  {
   "cell_type": "code",
   "execution_count": null,
   "metadata": {},
   "outputs": [],
   "source": [
    "#include <iostream>\n",
    "\n",
    "using namespace std;\n",
    "\n",
    "int main(void){\n",
    "    int dt;\n",
    "\n",
    "    cout << \"podaj numer dnia tygodnia <1, 7> : \";\n",
    "    cin >> dt;\n",
    "\n",
    "    if ((dt < 1) || (dt > 7)){\n",
    "        cout << \"nieprawidlowy numer\" << endl;\n",
    "        return 1;\n",
    "    }\n",
    "\n",
    "    string dni_t[7] = {\"poniedzialek\", \"wtorek\", \"sroda\", \"czwartek\", \"piatek\", \"sobota\", \"niedziela\"};\n",
    "\n",
    "    cout << \"podany numer to \" << dni_t[dt - 1] << endl;\n",
    "\n",
    "    return 0;\n",
    "\n",
    "}"
   ]
  },
  {
   "cell_type": "markdown",
   "metadata": {},
   "source": [
    "![zadanie 3](03.drawio.png \"03\")"
   ]
  },
  {
   "cell_type": "markdown",
   "metadata": {},
   "source": [
    "## Zadanie 4"
   ]
  },
  {
   "cell_type": "code",
   "execution_count": null,
   "metadata": {},
   "outputs": [],
   "source": [
    "#include <iostream>\n",
    "\n",
    "using namespace std;\n",
    "\n",
    "\n",
    "int main(void) {\n",
    "    int liczby[5];\n",
    "\n",
    "    for (int i = 0; i < 5; i++){\n",
    "        cout << \"podaj \" << i + 1 << \" liczbe: \";\n",
    "        cin >> liczby[i]; \n",
    "    }\n",
    "    int min = liczby[0];\n",
    "    int max = liczby[0];\n",
    "    for (int i = 1; i < 5; i++){\n",
    "        if (liczby[i] > max){\n",
    "            max = liczby[i];\n",
    "        }\n",
    "        else if (liczby[i] < min){\n",
    "            min = liczby[i];\n",
    "        }\n",
    "    }\n",
    "\n",
    "    cout << \"min to \" << min << \" max to \" << max << \" a ich roznica to \" << (max - min) << endl;\n",
    "    return 0;\n",
    "}"
   ]
  },
  {
   "cell_type": "markdown",
   "metadata": {},
   "source": [
    "![zadanie 4](04.drawio.png \"04\")"
   ]
  },
  {
   "cell_type": "markdown",
   "metadata": {},
   "source": [
    "## Zadanie 5"
   ]
  },
  {
   "cell_type": "code",
   "execution_count": null,
   "metadata": {},
   "outputs": [],
   "source": [
    "#include <iostream>\n",
    "\n",
    "using namespace std;\n",
    "\n",
    "int main(void){\n",
    "    int n;\n",
    "    cout << \"podaj ilosc liczb: \";\n",
    "    cin >> n;\n",
    "\n",
    "    int tab[n];\n",
    "\n",
    "    for (int i = 0; i < n; i++){\n",
    "        cout << \"podaj \" << i +1 << \" liczbe: \";\n",
    "        cin >> tab[i]; \n",
    "    }\n",
    "\n",
    "    int sum = 0;\n",
    "\n",
    "    for (int i = 0; i < n; i++){\n",
    "        sum += tab[i];\n",
    "    }\n",
    "    int s = sum / n;\n",
    "    cout << \"srednia wynosi \" << s << endl;\n",
    "\n",
    "    for (int i = 0; i < s; i++){\n",
    "        cout << \"0\";\n",
    "    }\n",
    "    cout << endl;\n",
    "    return 0;\n",
    "\n",
    "}"
   ]
  },
  {
   "cell_type": "markdown",
   "metadata": {},
   "source": [
    "![zadanie 5](05.drawio.png \"05\")"
   ]
  },
  {
   "cell_type": "markdown",
   "metadata": {},
   "source": [
    "# Podsumowanie i Wnioski"
   ]
  },
  {
   "cell_type": "markdown",
   "metadata": {},
   "source": [
    "Podsumowując, w sprawozdaniu zrealizowano sześć zadań programistycznych, które pozwoliły na praktyczne zastosowanie podstawowych struktur sterujących, takich jak pętle i instrukcje warunkowe. Każdy z programów działa zgodnie z założeniami i poprawnie przetwarza dane wejściowe, dostarczając oczekiwane wyniki.\n",
    "\n",
    "Wnioski: Zadania te umożliwiły utrwalenie wiedzy z zakresu operacji na liczbach, zarządzania danymi użytkownika oraz poprawnej implementacji algorytmów w języku C++. Ponadto, wykorzystanie schematów blokowych pomogło w lepszym zrozumieniu logiki poszczególnych programów."
   ]
  }
 ],
 "metadata": {
  "kernelspec": {
   "display_name": "Python 3",
   "language": "python",
   "name": "python3"
  },
  "language_info": {
   "codemirror_mode": {
    "name": "ipython",
    "version": 3
   },
   "file_extension": ".py",
   "mimetype": "text/x-python",
   "name": "python",
   "nbconvert_exporter": "python",
   "pygments_lexer": "ipython3",
   "version": "3.12.6"
  }
 },
 "nbformat": 4,
 "nbformat_minor": 2
}
